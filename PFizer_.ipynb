{
  "nbformat": 4,
  "nbformat_minor": 0,
  "metadata": {
    "colab": {
      "private_outputs": true,
      "provenance": [],
      "authorship_tag": "ABX9TyPOwZqmdvVZHA1Vw5VMoADc",
      "include_colab_link": true
    },
    "kernelspec": {
      "name": "python3",
      "display_name": "Python 3"
    },
    "language_info": {
      "name": "python"
    }
  },
  "cells": [
    {
      "cell_type": "markdown",
      "metadata": {
        "id": "view-in-github",
        "colab_type": "text"
      },
      "source": [
        "<a href=\"https://colab.research.google.com/github/Mahima966/Python_Case_Study/blob/main/PFizer_.ipynb\" target=\"_parent\"><img src=\"https://colab.research.google.com/assets/colab-badge.svg\" alt=\"Open In Colab\"/></a>"
      ]
    },
    {
      "cell_type": "markdown",
      "source": [
        "**-What is the data about?**\n",
        "\n",
        "* Temperature (K)\n",
        "* Pressure (P)\n",
        "\n",
        "The data is recorded after an interval of 1 hour everyday to monitor the drug stability in a drug development test.\n",
        "These data points are therefore used to identify the optimal set of values of parameters for the stability of the drugs.\n"
      ],
      "metadata": {
        "id": "5F6J4eMSzyD3"
      }
    },
    {
      "cell_type": "code",
      "execution_count": null,
      "metadata": {
        "id": "d7HN-8D_xllg"
      },
      "outputs": [],
      "source": [
        "from google.colab import files\n",
        "uploaded=files.upload()\n",
        "print(uploaded)"
      ]
    },
    {
      "cell_type": "markdown",
      "source": [
        "# Let's explore this dataset -"
      ],
      "metadata": {
        "id": "RuKDYeJS4lSj"
      }
    },
    {
      "cell_type": "code",
      "source": [
        "import pandas as pd\n",
        "import numpy as np"
      ],
      "metadata": {
        "id": "LlnzXpVH4ZBw"
      },
      "execution_count": null,
      "outputs": []
    },
    {
      "cell_type": "code",
      "source": [
        "data = pd.read_csv('Pfizer_1.csv')\n",
        "data"
      ],
      "metadata": {
        "id": "JnHi18Md36C1"
      },
      "execution_count": null,
      "outputs": []
    },
    {
      "cell_type": "code",
      "source": [
        "data.info()"
      ],
      "metadata": {
        "id": "LyDzIEPP5_oU"
      },
      "execution_count": null,
      "outputs": []
    },
    {
      "cell_type": "markdown",
      "source": [
        "As we saw earlier, the dataset has 18 rows and 15 columns.\n",
        "######If you notice further, you'll see:\n",
        "* The columns are 1:30:00 , 2:30:00 , 3:30:00 , ... so on.\n",
        "* Temperature and Pressure of each date is in a separate row\n",
        "\n",
        "**Q-Can we restructure our data into a better format?**\n",
        "#####---Maybe we can have a column for time , with timestamps as the column value.\n",
        "\n"
      ],
      "metadata": {
        "id": "n20AfNqwsata"
      }
    },
    {
      "cell_type": "markdown",
      "source": [
        "**Where will the Temperature/Pressure values go?**\n",
        "######---We can similarly create one column containing the values of these parameters.\"Melt\" the timestamp column into two columns** - timestamp and corresponding values.\n"
      ],
      "metadata": {
        "id": "Dd3LG3aRtxWL"
      }
    },
    {
      "cell_type": "markdown",
      "source": [
        "**How can we restructure our data into having every row corresponding to a single reading?**"
      ],
      "metadata": {
        "id": "mbgMEtp-uXfb"
      }
    },
    {
      "cell_type": "code",
      "source": [
        "pd.melt(data, id_vars=['Date', 'Parameter', 'Drug_Name'])"
      ],
      "metadata": {
        "id": "7_FxoMSh6Tbg"
      },
      "execution_count": null,
      "outputs": []
    },
    {
      "cell_type": "markdown",
      "source": [
        "This converts our data from wide to long format"
      ],
      "metadata": {
        "id": "GDyEiZDJusTi"
      }
    },
    {
      "cell_type": "markdown",
      "source": [
        "**How can we rename the columns \"variable\" and \"value\" as per our original dataframe?**"
      ],
      "metadata": {
        "id": "9FVfWuf0uwc7"
      }
    },
    {
      "cell_type": "code",
      "source": [
        "data_melt = pd.melt(data,id_vars = ['Date', 'Drug_Name', 'Parameter'],\n",
        "var_name = \"time\",\n",
        "value_name = 'reading')\n",
        "data_melt"
      ],
      "metadata": {
        "id": "OfHnZwS_uv6x"
      },
      "execution_count": null,
      "outputs": []
    },
    {
      "cell_type": "markdown",
      "source": [
        "**Conclusion:**\n",
        "* The labels of the timestamp columns are conviniently melted into a single column - time\n",
        "* It retained all the values in reading column.\n",
        "* The labels of columns such as 1:30:00 , 2:30:00 have now become categories of the variable column.\n",
        "* The values from columns we are melting are stored in the value column.\n"
      ],
      "metadata": {
        "id": "cdGsIxTvvROy"
      }
    },
    {
      "cell_type": "markdown",
      "source": [
        "# Pivoting\n",
        "######Now suppose we want to convert our data back to the wide format.\n",
        "######The reason could be to maintain the structure for storing or some other purpose.\n",
        "# Notice\n",
        "* The variables Date , Drug_Name and Parameter will remain same.\n",
        "* The column names will be extracted from the column time .\n",
        "* The values will be extracted from the column readings .\n",
        "\n"
      ],
      "metadata": {
        "id": "l8bHgLXZv0aN"
      }
    },
    {
      "cell_type": "markdown",
      "source": [],
      "metadata": {
        "id": "toZWAF8tv0WX"
      }
    },
    {
      "cell_type": "markdown",
      "source": [
        "**How can we restructure our data back to the original wide format?**"
      ],
      "metadata": {
        "id": "SgRfHwI_wqLs"
      }
    },
    {
      "cell_type": "code",
      "source": [
        "data_melt.pivot(index=['Date','Drug_Name','Parameter'], # Columns used to make new frame’s index\n",
        "columns = 'time',                                       # Column used to make new frame’s columns\n",
        "values='reading')                                        # Column used for populating new frame’s values.\n"
      ],
      "metadata": {
        "id": "UhM7FyVqvjcB"
      },
      "execution_count": null,
      "outputs": []
    },
    {
      "cell_type": "markdown",
      "source": [
        " pivot() is the exact opposite of melt() .\n"
      ],
      "metadata": {
        "id": "WSxXs0AMxO00"
      }
    },
    {
      "cell_type": "markdown",
      "source": [
        "* We are getting multiple indices here, but we can get single index again using reset_index() .\n"
      ],
      "metadata": {
        "id": "-_mSHP_5xal0"
      }
    },
    {
      "cell_type": "code",
      "source": [
        "data_melt.pivot(index=['Date','Drug_Name','Parameter'],\n",
        "columns = 'time',\n",
        "values='reading').reset_index()"
      ],
      "metadata": {
        "id": "svwIRELgxZiA"
      },
      "execution_count": null,
      "outputs": []
    },
    {
      "cell_type": "code",
      "source": [
        "data_melt.head()"
      ],
      "metadata": {
        "id": "GO8mNW2cxRpi"
      },
      "execution_count": null,
      "outputs": []
    },
    {
      "cell_type": "markdown",
      "source": [
        "Now if you notice,\n",
        "* We are using 2 rows to log readings for a single experiment.\n",
        "\n",
        "**Can we further restructure our data into dividing the Parameter column into T/P?**\n",
        "* A format like Date | time | Drug_Name | Pressure | Temperature would be suitable.\n",
        "* We want to split one single column into multiple columns.\n"
      ],
      "metadata": {
        "id": "vepFtQZyyYFx"
      }
    },
    {
      "cell_type": "markdown",
      "source": [
        "**How can we divide the Parameter column again?**"
      ],
      "metadata": {
        "id": "z3_oQMZYy9RS"
      }
    },
    {
      "cell_type": "code",
      "source": [
        "data_tidy = data_melt.pivot(index=['Date','time', 'Drug_Name'],\n",
        "columns = 'Parameter',values='reading')\n",
        "data_tidy\n"
      ],
      "metadata": {
        "id": "SalerqCZy5jN"
      },
      "execution_count": null,
      "outputs": []
    },
    {
      "cell_type": "markdown",
      "source": [
        "Notice that a multi-index dataframe has been created.\n",
        "#####We can use reset_index() to remove the multi-index."
      ],
      "metadata": {
        "id": "xc_6OPphzfqu"
      }
    },
    {
      "cell_type": "code",
      "source": [
        "data_tidy = data_tidy.reset_index()\n",
        "data_tidy\n"
      ],
      "metadata": {
        "id": "tl0Ck06Uzu8E"
      },
      "execution_count": null,
      "outputs": []
    },
    {
      "cell_type": "code",
      "source": [
        "#We can rename our index column from Parameter to simply None .\n",
        "data_tidy.columns.name = None\n",
        "data_tidy.head()\n"
      ],
      "metadata": {
        "id": "s0cXKjxxz5y_"
      },
      "execution_count": null,
      "outputs": []
    },
    {
      "cell_type": "markdown",
      "source": [
        "**Can we use pivot to nd the day-wise mean value of temperature for each drug?**"
      ],
      "metadata": {
        "id": "DKtYmsoJ0If7"
      }
    },
    {
      "cell_type": "code",
      "source": [
        "data_tidy.pivot(index=['Drug_Name'],\n",
        "columns = 'Date',\n",
        "values=['Temperature'])"
      ],
      "metadata": {
        "id": "bwT3SVlG0HVf"
      },
      "execution_count": null,
      "outputs": []
    },
    {
      "cell_type": "markdown",
      "source": [
        "**Why did we get an error?**"
      ],
      "metadata": {
        "id": "NbfBAOZ20eP1"
      }
    },
    {
      "cell_type": "markdown",
      "source": [
        "* We need to nd the average of temperature values throughout a day.\n",
        "* If you notice, the error shows duplicate entries.\n",
        "\n",
        "Hence the index values should be unique entry for each row.\n"
      ],
      "metadata": {
        "id": "zq2ZiDu-0pCc"
      }
    },
    {
      "cell_type": "markdown",
      "source": [
        "**What can we do to get our required mean values then?**\n"
      ],
      "metadata": {
        "id": "kg9sMXCX1OI9"
      }
    },
    {
      "cell_type": "code",
      "source": [
        "pd.pivot_table(data_tidy, index='Drug_Name', columns='Date', values=['Temperature'], aggfunc=np.mean)"
      ],
      "metadata": {
        "id": "ugzK5sqT1XN1"
      },
      "execution_count": null,
      "outputs": []
    },
    {
      "cell_type": "markdown",
      "source": [
        "This function is similar to pivot() , with an extra feature of an aggregator"
      ],
      "metadata": {
        "id": "KHAfNP2l11mB"
      }
    },
    {
      "cell_type": "markdown",
      "source": [
        "**How does pivot_table() work?**\n"
      ],
      "metadata": {
        "id": "sqevv-o82ARQ"
      }
    },
    {
      "cell_type": "markdown",
      "source": [
        "* The initial parameters are same as what we use in pivot() .\n",
        "* As an extra parameter, we pass the type of aggregator."
      ],
      "metadata": {
        "id": "0y-r9cgu2Fii"
      }
    },
    {
      "cell_type": "markdown",
      "source": [
        "**Note:**\n",
        "* We could have done this using groupby too.\n",
        "* In fact, pivot_table uses groupby in the backend to group the data and perform the aggregration.\n",
        "* The only difference is in the type of output we get using both the functions.\n"
      ],
      "metadata": {
        "id": "5q49fXN92UYK"
      }
    },
    {
      "cell_type": "markdown",
      "source": [
        "**Similarly, what if we want to nd the minimum values of temperature and pressure on a particular date?**"
      ],
      "metadata": {
        "id": "F-54bpLq2s85"
      }
    },
    {
      "cell_type": "code",
      "source": [
        "pd.pivot_table(data_tidy, index='Drug_Name', columns='Date', values=['Temperature', 'Pressure'], aggfunc=np.min)"
      ],
      "metadata": {
        "id": "At6h8XOH2v-m"
      },
      "execution_count": null,
      "outputs": []
    }
  ]
}